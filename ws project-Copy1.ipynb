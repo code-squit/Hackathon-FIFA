{
 "cells": [
  {
   "cell_type": "code",
   "execution_count": 118,
   "id": "387b358a",
   "metadata": {},
   "outputs": [],
   "source": [
    "import numpy as np\n",
    "import pandas as pd\n",
    "import matplotlib.pyplot as plt\n",
    "import seaborn as sns\n",
    "\n",
    "import requests\n",
    "from bs4 import BeautifulSoup\n"
   ]
  },
  {
   "cell_type": "code",
   "execution_count": 53,
   "id": "638e025f",
   "metadata": {},
   "outputs": [],
   "source": [
    "import warnings\n",
    "warnings.filterwarnings('ignore')"
   ]
  },
  {
   "cell_type": "code",
   "execution_count": 2,
   "id": "ed79be8a",
   "metadata": {},
   "outputs": [],
   "source": [
    "URL=['https://www.cars24.com/buy-used-cars-hyderabad/?itm_source=Cars24Website&itm_medium=sticky_header',\n",
    "     'https://www.cars24.com/buy-used-cars-new-delhi/?itm_source=Cars24Website&itm_medium=sticky_header',\n",
    "    'https://www.cars24.com/buy-used-cars-bengaluru/?itm_source=Cars24Website&itm_medium=sticky_header',\n",
    "    'https://www.cars24.com/buy-used-car?sort=P&storeCityId=2378&pinId=400001&pinId=400001']\n",
    "  "
   ]
  },
  {
   "cell_type": "code",
   "execution_count": 3,
   "id": "41591d14",
   "metadata": {},
   "outputs": [],
   "source": [
    "for i in range(2, 4):\n",
    "    URL.append('https://www.cars24.com/buy-used-cars-hyderabad/?itm_source=Cars24Website&itm_medium=sticky_header&page={}'. format(i))\n",
    "for i in range(2,9):\n",
    "    URL.append('https://www.cars24.com/buy-used-cars-new-delhi/?itm_source=Cars24Website&itm_medium=sticky_header&page={}'.format(i))\n",
    "for i in range(2,15):\n",
    "    URL.append('https://www.cars24.com/buy-used-cars-bengaluru/?itm_source=Cars24Website&itm_medium=sticky_header&page={}'.format(i))\n",
    "for i in range(2,23):\n",
    "    URL.append('https://www.cars24.com/buy-used-car?sort=P&storeCityId=2378&pinId=400001&page={}'.format(i))\n",
    "    "
   ]
  },
  {
   "cell_type": "code",
   "execution_count": 4,
   "id": "1730247e",
   "metadata": {},
   "outputs": [
    {
     "name": "stdout",
     "output_type": "stream",
     "text": [
      "Wall time: 24 s\n"
     ]
    }
   ],
   "source": [
    "%%time\n",
    "\n",
    "cnames = []\n",
    "c_type = []\n",
    "c_details = []\n",
    "c_price = []\n",
    "EMI = []\n",
    "discount = []\n",
    "location=[]\n",
    "\n",
    "for url in URL:\n",
    "    \n",
    "    page = requests.get(url)\n",
    "    htmlCode = page.text\n",
    "    \n",
    "    soup = BeautifulSoup(htmlCode)\n",
    "    \n",
    "    for x in soup.find_all('div', attrs={'class' : 'col-4'}):\n",
    "\n",
    "        name = x.find('h2', attrs={'class' : '_3FpCg'})\n",
    "        if name is None:\n",
    "            cnames.append(np.NaN)\n",
    "        else:\n",
    "            cnames.append(name.text)\n",
    "\n",
    "        c_t = x.find('p', attrs={'class' : 'cvakB'})\n",
    "        if c_t is None:\n",
    "            c_type.append(np.NaN)\n",
    "        else:\n",
    "            c_type.append(c_t.text)\n",
    "\n",
    "        details = x.find('ul', attrs={'class' : 'bVR0c'})\n",
    "        if details is None:\n",
    "            c_details.append(np.NaN)\n",
    "        else:\n",
    "            c_details.append(details.text)\n",
    "\n",
    "        price = x.find('div', attrs={'class' : '_7udZZ'})\n",
    "        if price is None:\n",
    "            c_price.append(np.NaN)\n",
    "        else:\n",
    "            c_price.append(price.text)\n",
    "            \n",
    "        emi = x.find('div', attrs={'class' : '_2HFRN'})\n",
    "        if emi is None:\n",
    "            EMI.append(np.NaN)\n",
    "        else:\n",
    "            EMI.append(emi.text)\n",
    "            \n",
    "        disc = x.find('div', attrs={'class' : '_3mZ8j'})\n",
    "        if disc is None:\n",
    "            discount.append(np.NaN)\n",
    "        else:\n",
    "            discount.append(disc.text)\n",
    "            \n",
    "        if 'hyderabad' in url:\n",
    "            location.append('Hyderabad')\n",
    "        elif 'new-delhi' in url:\n",
    "            location.append('New Delhi')\n",
    "        elif 'bengaluru' in url:\n",
    "            location.append('Bengaluru')\n",
    "        elif 'CityId=2378' in url:\n",
    "            location.append('Mumbai')\n",
    "        else: \n",
    "            location.append(np.NaN)\n",
    "                \n",
    "            "
   ]
  },
  {
   "cell_type": "code",
   "execution_count": 5,
   "id": "25a41c08",
   "metadata": {},
   "outputs": [
    {
     "name": "stdout",
     "output_type": "stream",
     "text": [
      "901\n",
      "901\n",
      "901\n",
      "901\n",
      "901\n",
      "901\n",
      "901\n"
     ]
    }
   ],
   "source": [
    "print(len(cnames))\n",
    "print(len(c_type))\n",
    "print(len(c_details))\n",
    "print(len(c_price))\n",
    "print(len(EMI))\n",
    "print(len(discount))\n",
    "print(len(location))"
   ]
  },
  {
   "cell_type": "code",
   "execution_count": 76,
   "id": "83eed16f",
   "metadata": {},
   "outputs": [],
   "source": [
    "df = pd.DataFrame({'Name' : cnames, 'Type' : c_type, 'Details' : c_details, 'Price' : c_price,'EMI':EMI,'Discount':discount,\n",
    "                  'Location':location})"
   ]
  },
  {
   "cell_type": "code",
   "execution_count": 77,
   "id": "b9769856",
   "metadata": {},
   "outputs": [
    {
     "data": {
      "text/html": [
       "<div>\n",
       "<style scoped>\n",
       "    .dataframe tbody tr th:only-of-type {\n",
       "        vertical-align: middle;\n",
       "    }\n",
       "\n",
       "    .dataframe tbody tr th {\n",
       "        vertical-align: top;\n",
       "    }\n",
       "\n",
       "    .dataframe thead th {\n",
       "        text-align: right;\n",
       "    }\n",
       "</style>\n",
       "<table border=\"1\" class=\"dataframe\">\n",
       "  <thead>\n",
       "    <tr style=\"text-align: right;\">\n",
       "      <th></th>\n",
       "      <th>Name</th>\n",
       "      <th>Type</th>\n",
       "      <th>Details</th>\n",
       "      <th>Price</th>\n",
       "      <th>EMI</th>\n",
       "      <th>Discount</th>\n",
       "      <th>Location</th>\n",
       "    </tr>\n",
       "  </thead>\n",
       "  <tbody>\n",
       "    <tr>\n",
       "      <th>0</th>\n",
       "      <td>2019 Toyota Innova Crysta</td>\n",
       "      <td>2.4 GX 8 STR Manual</td>\n",
       "      <td>187,298 km1st OwnerDiesel</td>\n",
       "      <td>₹1,465,799</td>\n",
       "      <td>₹32,606/month</td>\n",
       "      <td>₹50,000 OFF</td>\n",
       "      <td>Hyderabad</td>\n",
       "    </tr>\n",
       "    <tr>\n",
       "      <th>1</th>\n",
       "      <td>2017 Maruti Swift</td>\n",
       "      <td>ZXI Manual</td>\n",
       "      <td>45,719 km1st OwnerPetrol</td>\n",
       "      <td>₹627,499</td>\n",
       "      <td>₹13,958/month</td>\n",
       "      <td>₹33,000 OFF</td>\n",
       "      <td>Hyderabad</td>\n",
       "    </tr>\n",
       "    <tr>\n",
       "      <th>2</th>\n",
       "      <td>2017 Honda Jazz</td>\n",
       "      <td>1.2 V AT Automatic</td>\n",
       "      <td>64,497 km2nd OwnerPetrol</td>\n",
       "      <td>₹633,799</td>\n",
       "      <td>₹14,099/month</td>\n",
       "      <td>₹25,000 OFF</td>\n",
       "      <td>Hyderabad</td>\n",
       "    </tr>\n",
       "    <tr>\n",
       "      <th>3</th>\n",
       "      <td>2019 Renault Kwid</td>\n",
       "      <td>1.0 RXT Opt Manual</td>\n",
       "      <td>31,559 km1st OwnerPetrol</td>\n",
       "      <td>₹407,599</td>\n",
       "      <td>₹9,067/month</td>\n",
       "      <td>₹27,000 OFF</td>\n",
       "      <td>Hyderabad</td>\n",
       "    </tr>\n",
       "    <tr>\n",
       "      <th>4</th>\n",
       "      <td>2012 Maruti Ritz</td>\n",
       "      <td>VXI ABS Manual</td>\n",
       "      <td>116,534 km2nd OwnerPetrol</td>\n",
       "      <td>₹314,399</td>\n",
       "      <td>₹6,994/month</td>\n",
       "      <td>₹25,000 OFF</td>\n",
       "      <td>Hyderabad</td>\n",
       "    </tr>\n",
       "    <tr>\n",
       "      <th>...</th>\n",
       "      <td>...</td>\n",
       "      <td>...</td>\n",
       "      <td>...</td>\n",
       "      <td>...</td>\n",
       "      <td>...</td>\n",
       "      <td>...</td>\n",
       "      <td>...</td>\n",
       "    </tr>\n",
       "    <tr>\n",
       "      <th>896</th>\n",
       "      <td>2017 Maruti Dzire</td>\n",
       "      <td>ZXI Manual</td>\n",
       "      <td>37,024 km1st OwnerPetrol</td>\n",
       "      <td>₹562,099</td>\n",
       "      <td>₹12,504/month</td>\n",
       "      <td>₹50,000 OFF</td>\n",
       "      <td>Mumbai</td>\n",
       "    </tr>\n",
       "    <tr>\n",
       "      <th>897</th>\n",
       "      <td>2015 Hyundai Grand i10</td>\n",
       "      <td>SPORTS 1.2 VTVT Manual</td>\n",
       "      <td>35,613 km1st OwnerPetrol</td>\n",
       "      <td>₹411,299</td>\n",
       "      <td>₹9,149/month</td>\n",
       "      <td>₹22,000 OFF</td>\n",
       "      <td>Mumbai</td>\n",
       "    </tr>\n",
       "    <tr>\n",
       "      <th>898</th>\n",
       "      <td>2019 Maruti Dzire</td>\n",
       "      <td>VXI Manual</td>\n",
       "      <td>19,015 km1st OwnerPetrol</td>\n",
       "      <td>₹653,799</td>\n",
       "      <td>₹14,543/month</td>\n",
       "      <td>₹16,000 OFF</td>\n",
       "      <td>Mumbai</td>\n",
       "    </tr>\n",
       "    <tr>\n",
       "      <th>899</th>\n",
       "      <td>2017 Maruti Wagon R 1.0</td>\n",
       "      <td>LXI CNG Manual</td>\n",
       "      <td>110,993 km1st OwnerPetrol + CNG</td>\n",
       "      <td>₹379,299</td>\n",
       "      <td>₹8,437/month</td>\n",
       "      <td>₹5,000 OFF</td>\n",
       "      <td>Mumbai</td>\n",
       "    </tr>\n",
       "    <tr>\n",
       "      <th>900</th>\n",
       "      <td>2016 Maruti Baleno</td>\n",
       "      <td>DELTA 1.2 K12 AT Automatic</td>\n",
       "      <td>26,581 km1st OwnerPetrol</td>\n",
       "      <td>₹591,099</td>\n",
       "      <td>₹13,149/month</td>\n",
       "      <td>₹34,000 OFF</td>\n",
       "      <td>Mumbai</td>\n",
       "    </tr>\n",
       "  </tbody>\n",
       "</table>\n",
       "<p>901 rows × 7 columns</p>\n",
       "</div>"
      ],
      "text/plain": [
       "                          Name                        Type  \\\n",
       "0    2019 Toyota Innova Crysta         2.4 GX 8 STR Manual   \n",
       "1            2017 Maruti Swift                  ZXI Manual   \n",
       "2              2017 Honda Jazz          1.2 V AT Automatic   \n",
       "3            2019 Renault Kwid          1.0 RXT Opt Manual   \n",
       "4             2012 Maruti Ritz              VXI ABS Manual   \n",
       "..                         ...                         ...   \n",
       "896          2017 Maruti Dzire                  ZXI Manual   \n",
       "897     2015 Hyundai Grand i10      SPORTS 1.2 VTVT Manual   \n",
       "898          2019 Maruti Dzire                  VXI Manual   \n",
       "899    2017 Maruti Wagon R 1.0              LXI CNG Manual   \n",
       "900         2016 Maruti Baleno  DELTA 1.2 K12 AT Automatic   \n",
       "\n",
       "                             Details       Price            EMI      Discount  \\\n",
       "0          187,298 km1st OwnerDiesel  ₹1,465,799  ₹32,606/month   ₹50,000 OFF   \n",
       "1           45,719 km1st OwnerPetrol    ₹627,499  ₹13,958/month   ₹33,000 OFF   \n",
       "2           64,497 km2nd OwnerPetrol    ₹633,799  ₹14,099/month   ₹25,000 OFF   \n",
       "3           31,559 km1st OwnerPetrol    ₹407,599   ₹9,067/month   ₹27,000 OFF   \n",
       "4          116,534 km2nd OwnerPetrol    ₹314,399   ₹6,994/month   ₹25,000 OFF   \n",
       "..                               ...         ...            ...           ...   \n",
       "896         37,024 km1st OwnerPetrol    ₹562,099  ₹12,504/month   ₹50,000 OFF   \n",
       "897         35,613 km1st OwnerPetrol    ₹411,299   ₹9,149/month   ₹22,000 OFF   \n",
       "898         19,015 km1st OwnerPetrol    ₹653,799  ₹14,543/month   ₹16,000 OFF   \n",
       "899  110,993 km1st OwnerPetrol + CNG    ₹379,299   ₹8,437/month    ₹5,000 OFF   \n",
       "900         26,581 km1st OwnerPetrol    ₹591,099  ₹13,149/month   ₹34,000 OFF   \n",
       "\n",
       "      Location  \n",
       "0    Hyderabad  \n",
       "1    Hyderabad  \n",
       "2    Hyderabad  \n",
       "3    Hyderabad  \n",
       "4    Hyderabad  \n",
       "..         ...  \n",
       "896     Mumbai  \n",
       "897     Mumbai  \n",
       "898     Mumbai  \n",
       "899     Mumbai  \n",
       "900     Mumbai  \n",
       "\n",
       "[901 rows x 7 columns]"
      ]
     },
     "execution_count": 77,
     "metadata": {},
     "output_type": "execute_result"
    }
   ],
   "source": [
    "df"
   ]
  },
  {
   "cell_type": "code",
   "execution_count": 78,
   "id": "01119fe8",
   "metadata": {},
   "outputs": [
    {
     "name": "stdout",
     "output_type": "stream",
     "text": [
      "<class 'pandas.core.frame.DataFrame'>\n",
      "RangeIndex: 901 entries, 0 to 900\n",
      "Data columns (total 7 columns):\n",
      " #   Column    Non-Null Count  Dtype \n",
      "---  ------    --------------  ----- \n",
      " 0   Name      817 non-null    object\n",
      " 1   Type      817 non-null    object\n",
      " 2   Details   817 non-null    object\n",
      " 3   Price     817 non-null    object\n",
      " 4   EMI       817 non-null    object\n",
      " 5   Discount  813 non-null    object\n",
      " 6   Location  901 non-null    object\n",
      "dtypes: object(7)\n",
      "memory usage: 49.4+ KB\n"
     ]
    }
   ],
   "source": [
    "df.info()"
   ]
  },
  {
   "cell_type": "code",
   "execution_count": 79,
   "id": "a279b295",
   "metadata": {},
   "outputs": [
    {
     "data": {
      "text/plain": [
       "Name        84\n",
       "Type        84\n",
       "Details     84\n",
       "Price       84\n",
       "EMI         84\n",
       "Discount    88\n",
       "Location     0\n",
       "dtype: int64"
      ]
     },
     "execution_count": 79,
     "metadata": {},
     "output_type": "execute_result"
    }
   ],
   "source": [
    "# Identifying missing values in columns\n",
    "df.isnull().sum()"
   ]
  },
  {
   "cell_type": "code",
   "execution_count": 80,
   "id": "1a055748",
   "metadata": {},
   "outputs": [
    {
     "data": {
      "text/plain": [
       "Name         True\n",
       "Type         True\n",
       "Details      True\n",
       "Price        True\n",
       "EMI          True\n",
       "Discount     True\n",
       "Location    False\n",
       "dtype: bool"
      ]
     },
     "execution_count": 80,
     "metadata": {},
     "output_type": "execute_result"
    }
   ],
   "source": [
    "# Columns with atleast one missing value\n",
    "df.isnull().any(axis=0)"
   ]
  },
  {
   "cell_type": "code",
   "execution_count": 81,
   "id": "07978e50",
   "metadata": {},
   "outputs": [
    {
     "data": {
      "text/plain": [
       "Name        False\n",
       "Type        False\n",
       "Details     False\n",
       "Price       False\n",
       "EMI         False\n",
       "Discount    False\n",
       "Location    False\n",
       "dtype: bool"
      ]
     },
     "execution_count": 81,
     "metadata": {},
     "output_type": "execute_result"
    }
   ],
   "source": [
    "# Columns with all missing values\n",
    "df.isnull().all(axis=0)"
   ]
  },
  {
   "cell_type": "code",
   "execution_count": 82,
   "id": "741cddb8",
   "metadata": {},
   "outputs": [
    {
     "data": {
      "text/plain": [
       "0"
      ]
     },
     "execution_count": 82,
     "metadata": {},
     "output_type": "execute_result"
    }
   ],
   "source": [
    "# Number of columns with all missing values\n",
    "df.isnull().all(axis=0).sum()"
   ]
  },
  {
   "cell_type": "code",
   "execution_count": 83,
   "id": "7430c9ce",
   "metadata": {},
   "outputs": [
    {
     "data": {
      "text/plain": [
       "0      False\n",
       "1      False\n",
       "2      False\n",
       "3      False\n",
       "4      False\n",
       "       ...  \n",
       "896    False\n",
       "897    False\n",
       "898    False\n",
       "899    False\n",
       "900    False\n",
       "Length: 901, dtype: bool"
      ]
     },
     "execution_count": 83,
     "metadata": {},
     "output_type": "execute_result"
    }
   ],
   "source": [
    "# Rows with atleast one missing values\n",
    "df.isnull().any(axis=1)"
   ]
  },
  {
   "cell_type": "code",
   "execution_count": 84,
   "id": "60a80574",
   "metadata": {},
   "outputs": [
    {
     "data": {
      "text/plain": [
       "0      False\n",
       "1      False\n",
       "2      False\n",
       "3      False\n",
       "4      False\n",
       "       ...  \n",
       "896    False\n",
       "897    False\n",
       "898    False\n",
       "899    False\n",
       "900    False\n",
       "Length: 901, dtype: bool"
      ]
     },
     "execution_count": 84,
     "metadata": {},
     "output_type": "execute_result"
    }
   ],
   "source": [
    "#Rows with all missing values\n",
    "df.isnull().all(axis=1)"
   ]
  },
  {
   "cell_type": "code",
   "execution_count": 85,
   "id": "0700d976",
   "metadata": {},
   "outputs": [
    {
     "data": {
      "text/plain": [
       "0"
      ]
     },
     "execution_count": 85,
     "metadata": {},
     "output_type": "execute_result"
    }
   ],
   "source": [
    "# Number of rows with all missing values\n",
    "df.isnull().all(axis=1).sum()"
   ]
  },
  {
   "cell_type": "code",
   "execution_count": 86,
   "id": "9de3e40d",
   "metadata": {},
   "outputs": [
    {
     "data": {
      "text/plain": [
       "Name        9.32\n",
       "Type        9.32\n",
       "Details     9.32\n",
       "Price       9.32\n",
       "EMI         9.32\n",
       "Discount    9.77\n",
       "Location    0.00\n",
       "dtype: float64"
      ]
     },
     "execution_count": 86,
     "metadata": {},
     "output_type": "execute_result"
    }
   ],
   "source": [
    "#Missing values Treatment in Columns\n",
    "round(100*(df.isnull().sum()/len(df.index)), 2)"
   ]
  },
  {
   "cell_type": "code",
   "execution_count": 87,
   "id": "0acf7395",
   "metadata": {},
   "outputs": [
    {
     "data": {
      "text/html": [
       "<div>\n",
       "<style scoped>\n",
       "    .dataframe tbody tr th:only-of-type {\n",
       "        vertical-align: middle;\n",
       "    }\n",
       "\n",
       "    .dataframe tbody tr th {\n",
       "        vertical-align: top;\n",
       "    }\n",
       "\n",
       "    .dataframe thead th {\n",
       "        text-align: right;\n",
       "    }\n",
       "</style>\n",
       "<table border=\"1\" class=\"dataframe\">\n",
       "  <thead>\n",
       "    <tr style=\"text-align: right;\">\n",
       "      <th></th>\n",
       "      <th>Name</th>\n",
       "      <th>Type</th>\n",
       "      <th>Details</th>\n",
       "      <th>Price</th>\n",
       "      <th>EMI</th>\n",
       "      <th>Discount</th>\n",
       "      <th>Location</th>\n",
       "    </tr>\n",
       "  </thead>\n",
       "  <tbody>\n",
       "    <tr>\n",
       "      <th>5</th>\n",
       "      <td>NaN</td>\n",
       "      <td>NaN</td>\n",
       "      <td>NaN</td>\n",
       "      <td>NaN</td>\n",
       "      <td>NaN</td>\n",
       "      <td>NaN</td>\n",
       "      <td>Hyderabad</td>\n",
       "    </tr>\n",
       "    <tr>\n",
       "      <th>6</th>\n",
       "      <td>NaN</td>\n",
       "      <td>NaN</td>\n",
       "      <td>NaN</td>\n",
       "      <td>NaN</td>\n",
       "      <td>NaN</td>\n",
       "      <td>NaN</td>\n",
       "      <td>Hyderabad</td>\n",
       "    </tr>\n",
       "    <tr>\n",
       "      <th>27</th>\n",
       "      <td>NaN</td>\n",
       "      <td>NaN</td>\n",
       "      <td>NaN</td>\n",
       "      <td>NaN</td>\n",
       "      <td>NaN</td>\n",
       "      <td>NaN</td>\n",
       "      <td>New Delhi</td>\n",
       "    </tr>\n",
       "    <tr>\n",
       "      <th>28</th>\n",
       "      <td>NaN</td>\n",
       "      <td>NaN</td>\n",
       "      <td>NaN</td>\n",
       "      <td>NaN</td>\n",
       "      <td>NaN</td>\n",
       "      <td>NaN</td>\n",
       "      <td>New Delhi</td>\n",
       "    </tr>\n",
       "    <tr>\n",
       "      <th>49</th>\n",
       "      <td>NaN</td>\n",
       "      <td>NaN</td>\n",
       "      <td>NaN</td>\n",
       "      <td>NaN</td>\n",
       "      <td>NaN</td>\n",
       "      <td>NaN</td>\n",
       "      <td>Bengaluru</td>\n",
       "    </tr>\n",
       "    <tr>\n",
       "      <th>...</th>\n",
       "      <td>...</td>\n",
       "      <td>...</td>\n",
       "      <td>...</td>\n",
       "      <td>...</td>\n",
       "      <td>...</td>\n",
       "      <td>...</td>\n",
       "      <td>...</td>\n",
       "    </tr>\n",
       "    <tr>\n",
       "      <th>845</th>\n",
       "      <td>NaN</td>\n",
       "      <td>NaN</td>\n",
       "      <td>NaN</td>\n",
       "      <td>NaN</td>\n",
       "      <td>NaN</td>\n",
       "      <td>NaN</td>\n",
       "      <td>Mumbai</td>\n",
       "    </tr>\n",
       "    <tr>\n",
       "      <th>866</th>\n",
       "      <td>NaN</td>\n",
       "      <td>NaN</td>\n",
       "      <td>NaN</td>\n",
       "      <td>NaN</td>\n",
       "      <td>NaN</td>\n",
       "      <td>NaN</td>\n",
       "      <td>Mumbai</td>\n",
       "    </tr>\n",
       "    <tr>\n",
       "      <th>867</th>\n",
       "      <td>NaN</td>\n",
       "      <td>NaN</td>\n",
       "      <td>NaN</td>\n",
       "      <td>NaN</td>\n",
       "      <td>NaN</td>\n",
       "      <td>NaN</td>\n",
       "      <td>Mumbai</td>\n",
       "    </tr>\n",
       "    <tr>\n",
       "      <th>888</th>\n",
       "      <td>NaN</td>\n",
       "      <td>NaN</td>\n",
       "      <td>NaN</td>\n",
       "      <td>NaN</td>\n",
       "      <td>NaN</td>\n",
       "      <td>NaN</td>\n",
       "      <td>Mumbai</td>\n",
       "    </tr>\n",
       "    <tr>\n",
       "      <th>889</th>\n",
       "      <td>NaN</td>\n",
       "      <td>NaN</td>\n",
       "      <td>NaN</td>\n",
       "      <td>NaN</td>\n",
       "      <td>NaN</td>\n",
       "      <td>NaN</td>\n",
       "      <td>Mumbai</td>\n",
       "    </tr>\n",
       "  </tbody>\n",
       "</table>\n",
       "<p>84 rows × 7 columns</p>\n",
       "</div>"
      ],
      "text/plain": [
       "    Name Type Details Price  EMI Discount   Location\n",
       "5    NaN  NaN     NaN   NaN  NaN      NaN  Hyderabad\n",
       "6    NaN  NaN     NaN   NaN  NaN      NaN  Hyderabad\n",
       "27   NaN  NaN     NaN   NaN  NaN      NaN  New Delhi\n",
       "28   NaN  NaN     NaN   NaN  NaN      NaN  New Delhi\n",
       "49   NaN  NaN     NaN   NaN  NaN      NaN  Bengaluru\n",
       "..   ...  ...     ...   ...  ...      ...        ...\n",
       "845  NaN  NaN     NaN   NaN  NaN      NaN     Mumbai\n",
       "866  NaN  NaN     NaN   NaN  NaN      NaN     Mumbai\n",
       "867  NaN  NaN     NaN   NaN  NaN      NaN     Mumbai\n",
       "888  NaN  NaN     NaN   NaN  NaN      NaN     Mumbai\n",
       "889  NaN  NaN     NaN   NaN  NaN      NaN     Mumbai\n",
       "\n",
       "[84 rows x 7 columns]"
      ]
     },
     "execution_count": 87,
     "metadata": {},
     "output_type": "execute_result"
    }
   ],
   "source": [
    "df[df.isnull().sum(axis=1) >= 4]"
   ]
  },
  {
   "cell_type": "code",
   "execution_count": 88,
   "id": "8afefb6c",
   "metadata": {},
   "outputs": [
    {
     "data": {
      "text/plain": [
       "Name        0.00\n",
       "Type        0.00\n",
       "Details     0.00\n",
       "Price       0.00\n",
       "EMI         0.00\n",
       "Discount    0.49\n",
       "Location    0.00\n",
       "dtype: float64"
      ]
     },
     "execution_count": 88,
     "metadata": {},
     "output_type": "execute_result"
    }
   ],
   "source": [
    "# retaining the rows having <= 4 NaNs\n",
    "df = df[df.isnull().sum(axis=1) <= 4]\n",
    "\n",
    "# look at the summary again\n",
    "round(100*(df.isnull().sum()/len(df.index)), 2)"
   ]
  },
  {
   "cell_type": "code",
   "execution_count": 89,
   "id": "6cf794e6",
   "metadata": {},
   "outputs": [
    {
     "name": "stdout",
     "output_type": "stream",
     "text": [
      "<class 'pandas.core.frame.DataFrame'>\n",
      "Int64Index: 817 entries, 0 to 900\n",
      "Data columns (total 7 columns):\n",
      " #   Column    Non-Null Count  Dtype \n",
      "---  ------    --------------  ----- \n",
      " 0   Name      817 non-null    object\n",
      " 1   Type      817 non-null    object\n",
      " 2   Details   817 non-null    object\n",
      " 3   Price     817 non-null    object\n",
      " 4   EMI       817 non-null    object\n",
      " 5   Discount  813 non-null    object\n",
      " 6   Location  817 non-null    object\n",
      "dtypes: object(7)\n",
      "memory usage: 51.1+ KB\n"
     ]
    }
   ],
   "source": [
    "df.info()"
   ]
  },
  {
   "cell_type": "code",
   "execution_count": 90,
   "id": "9187fee1",
   "metadata": {},
   "outputs": [
    {
     "data": {
      "text/plain": [
       "2018 Maruti Vitara Brezza     21\n",
       "2016 Hyundai Grand i10        18\n",
       "2018 Ford Ecosport            15\n",
       "2015 Hyundai Grand i10        14\n",
       "2015 Maruti Swift             14\n",
       "                              ..\n",
       "2009 Hyundai i20               1\n",
       "2014 Maruti Ertiga             1\n",
       "2018 Mahindra TUV300           1\n",
       "2010 Honda Jazz                1\n",
       "2016 Mercedes Benz E Class     1\n",
       "Name: Name, Length: 273, dtype: int64"
      ]
     },
     "execution_count": 90,
     "metadata": {},
     "output_type": "execute_result"
    }
   ],
   "source": [
    "df['Name'].value_counts()"
   ]
  },
  {
   "cell_type": "code",
   "execution_count": 91,
   "id": "214199e1",
   "metadata": {},
   "outputs": [],
   "source": [
    "import re\n",
    "regex = r'^2\\d+'\n",
    "\n",
    "df['Year'] = df['Name'].apply(lambda x : re.findall(regex, x) if x!='NaN' else x)\n",
    "df.Year = df.Year.apply(lambda x: \"\".join(x))\n",
    "df.Year=df.Year.astype(int)"
   ]
  },
  {
   "cell_type": "code",
   "execution_count": 92,
   "id": "9abe3dcb",
   "metadata": {},
   "outputs": [
    {
     "data": {
      "text/plain": [
       "2018    155\n",
       "2017    151\n",
       "2016    115\n",
       "2019    110\n",
       "2015     86\n",
       "2014     68\n",
       "2020     41\n",
       "2012     36\n",
       "2013     32\n",
       "2011      9\n",
       "2009      6\n",
       "2010      5\n",
       "2021      3\n",
       "Name: Year, dtype: int64"
      ]
     },
     "execution_count": 92,
     "metadata": {},
     "output_type": "execute_result"
    }
   ],
   "source": [
    "df.Year.value_counts()"
   ]
  },
  {
   "cell_type": "code",
   "execution_count": 93,
   "id": "2100a39c",
   "metadata": {},
   "outputs": [],
   "source": [
    "b=[]\n",
    "\n",
    "for i in df['Name'] :\n",
    "    if i == 0:\n",
    "        b.append(0)\n",
    "    else:\n",
    "        b.append(i.split()[1])\n",
    "df['Brand'] = b"
   ]
  },
  {
   "cell_type": "code",
   "execution_count": 94,
   "id": "a1ddbc39",
   "metadata": {},
   "outputs": [
    {
     "data": {
      "text/plain": [
       "Maruti        401\n",
       "Hyundai       195\n",
       "Ford           55\n",
       "Honda          45\n",
       "Renault        25\n",
       "Tata           23\n",
       "Volkswagen     21\n",
       "Toyota         13\n",
       "KIA            10\n",
       "MG              8\n",
       "Mahindra        7\n",
       "Datsun          4\n",
       "Skoda           3\n",
       "Jeep            2\n",
       "Audi            1\n",
       "Ssangyong       1\n",
       "Mercedes        1\n",
       "BMW             1\n",
       "Nissan          1\n",
       "Name: Brand, dtype: int64"
      ]
     },
     "execution_count": 94,
     "metadata": {},
     "output_type": "execute_result"
    }
   ],
   "source": [
    "df.Brand.value_counts()"
   ]
  },
  {
   "cell_type": "code",
   "execution_count": 95,
   "id": "f3fc9e6d",
   "metadata": {},
   "outputs": [],
   "source": [
    "c=[]\n",
    "for i in df['Name'] :\n",
    "    if i == 0:\n",
    "        c.append(0)\n",
    "    else:\n",
    "        c.append(i.split()[2:])\n",
    "df['Model']=c\n",
    "df.Model = df.Model.apply(lambda x: \" \".join(x) if x!='NaN' else x)"
   ]
  },
  {
   "cell_type": "code",
   "execution_count": 96,
   "id": "78478929",
   "metadata": {},
   "outputs": [
    {
     "data": {
      "text/plain": [
       "Swift            64\n",
       "Grand i10        52\n",
       "Vitara Brezza    48\n",
       "Baleno           45\n",
       "Ecosport         40\n",
       "                 ..\n",
       "Tucson New        1\n",
       "XUV 3OO           1\n",
       "New Elantra       1\n",
       "Mobilio           1\n",
       "Micra             1\n",
       "Name: Model, Length: 87, dtype: int64"
      ]
     },
     "execution_count": 96,
     "metadata": {},
     "output_type": "execute_result"
    }
   ],
   "source": [
    "df.Model.value_counts()"
   ]
  },
  {
   "cell_type": "code",
   "execution_count": 97,
   "id": "ec465673",
   "metadata": {},
   "outputs": [
    {
     "data": {
      "text/plain": [
       "False"
      ]
     },
     "execution_count": 97,
     "metadata": {},
     "output_type": "execute_result"
    }
   ],
   "source": [
    "df.Model.isnull().any()"
   ]
  },
  {
   "cell_type": "code",
   "execution_count": 98,
   "id": "aec141ca",
   "metadata": {},
   "outputs": [],
   "source": [
    "regex = r'(?:Manual|Automatic)'\n",
    "df['car_type'] = df.Type.apply(lambda x : re.findall(regex,x) if x!='NaN' else x)\n",
    "df.car_type = df.car_type.apply(lambda x: \"\".join(x))"
   ]
  },
  {
   "cell_type": "code",
   "execution_count": 99,
   "id": "d0cfb6d5",
   "metadata": {},
   "outputs": [
    {
     "data": {
      "text/plain": [
       "Manual       674\n",
       "Automatic    120\n",
       "              23\n",
       "Name: car_type, dtype: int64"
      ]
     },
     "execution_count": 99,
     "metadata": {},
     "output_type": "execute_result"
    }
   ],
   "source": [
    "df.car_type.value_counts()"
   ]
  },
  {
   "cell_type": "code",
   "execution_count": 100,
   "id": "7e1ee798",
   "metadata": {},
   "outputs": [],
   "source": [
    "df['Type'].replace(to_replace=[\"Manual\",\"Automatic\"],value=\"\",inplace=True,regex=True)"
   ]
  },
  {
   "cell_type": "code",
   "execution_count": 101,
   "id": "6e3d85ad",
   "metadata": {},
   "outputs": [
    {
     "data": {
      "text/plain": [
       "VXI                       84\n",
       "VDI                       36\n",
       "LXI                       27\n",
       "DELTA 1.2 K12             25\n",
       "VXI AMT                   19\n",
       "                          ..\n",
       "S PETROL MT                1\n",
       "BASE 1.2                   1\n",
       "Sportz 1.2 VTVT MT         1\n",
       "2.5 ZX 7 STR BS IV         1\n",
       "1.0 TREND+ (ECOBOOST)      1\n",
       "Name: Type, Length: 287, dtype: int64"
      ]
     },
     "execution_count": 101,
     "metadata": {},
     "output_type": "execute_result"
    }
   ],
   "source": [
    "df.Type.value_counts()"
   ]
  },
  {
   "cell_type": "code",
   "execution_count": 102,
   "id": "ee85e72f",
   "metadata": {},
   "outputs": [
    {
     "data": {
      "text/plain": [
       "15,112 km1st OwnerPetrol     2\n",
       "3,919 km1st OwnerPetrol      1\n",
       "15,575 km1st OwnerPetrol     1\n",
       "2,407 km1st OwnerPetrol      1\n",
       "5,701 km1st OwnerPetrol      1\n",
       "                            ..\n",
       "17,058 km1st OwnerPetrol     1\n",
       "124,487 km1st OwnerDiesel    1\n",
       "51,849 km1st OwnerDiesel     1\n",
       "12,811 km2nd OwnerPetrol     1\n",
       "11,728 km1st OwnerPetrol     1\n",
       "Name: Details, Length: 816, dtype: int64"
      ]
     },
     "execution_count": 102,
     "metadata": {},
     "output_type": "execute_result"
    }
   ],
   "source": [
    "df.Details.value_counts()"
   ]
  },
  {
   "cell_type": "code",
   "execution_count": 105,
   "id": "bc1f2831",
   "metadata": {},
   "outputs": [],
   "source": [
    "regex = r'([,\\d]+\\skm)'\n",
    "df['km'] = df.Details.apply(lambda x : re.findall(regex,x) if x!=\"NaN\" else x)\n",
    "df.km = df.km.apply(lambda x: \"\".join(x))\n",
    "df['km'].replace(to_replace=[\"km\",','],value=\"\",inplace=True,regex=True)\n",
    "df.km=df.km.astype(int)"
   ]
  },
  {
   "cell_type": "code",
   "execution_count": 106,
   "id": "6357a95d",
   "metadata": {},
   "outputs": [],
   "source": [
    "regex = r'(?:1st|2nd)'\n",
    "df['owner'] = df.Details.apply(lambda x : re.findall(regex,x) if x!='NaN' else x)\n",
    "df.owner = df.owner.apply(lambda x: \"\".join(x))\n",
    "#df['owner'].replace(to_replace=[\"st\",\"nd\"],value=\"\",inplace=True,regex=True)\n"
   ]
  },
  {
   "cell_type": "code",
   "execution_count": 107,
   "id": "2d33d1ac",
   "metadata": {},
   "outputs": [],
   "source": [
    "regex = r'(?:Petrol|Diesel)'\n",
    "df['fuel'] = df.Details.apply(lambda x : re.findall(regex,x) if x!='NaN' else x)\n",
    "df.fuel = df.fuel.apply(lambda x: \"\".join(x))"
   ]
  },
  {
   "cell_type": "code",
   "execution_count": 109,
   "id": "7ccb502c",
   "metadata": {},
   "outputs": [
    {
     "data": {
      "text/plain": [
       "0"
      ]
     },
     "execution_count": 109,
     "metadata": {},
     "output_type": "execute_result"
    }
   ],
   "source": [
    "df['Price'].replace(to_replace=[\"₹\",\",\"],value=\"\",inplace=True,regex=True)\n",
    "df.Price=df.Price.astype(int)\n",
    "df['Price'].isnull().sum()"
   ]
  },
  {
   "cell_type": "code",
   "execution_count": 110,
   "id": "e2545043",
   "metadata": {},
   "outputs": [
    {
     "data": {
      "text/plain": [
       "0"
      ]
     },
     "execution_count": 110,
     "metadata": {},
     "output_type": "execute_result"
    }
   ],
   "source": [
    "df['EMI'].replace(to_replace=[\"₹\",\",\",\"/month\"],value=\"\",inplace=True,regex=True)\n",
    "df.EMI=df.EMI.astype(int)\n",
    "df['EMI'].isnull().sum()"
   ]
  },
  {
   "cell_type": "code",
   "execution_count": 111,
   "id": "b155f511",
   "metadata": {},
   "outputs": [
    {
     "data": {
      "text/plain": [
       "4"
      ]
     },
     "execution_count": 111,
     "metadata": {},
     "output_type": "execute_result"
    }
   ],
   "source": [
    "df['Discount'].replace(to_replace=[\"₹\",\",\",\"OFF\"],value=\"\",inplace=True,regex=True)\n",
    "df.Discount=df.Discount.astype(float)\n",
    "df['Discount'].isnull().sum()"
   ]
  },
  {
   "cell_type": "code",
   "execution_count": 123,
   "id": "79b83e0b",
   "metadata": {},
   "outputs": [],
   "source": [
    "df['Discount'].fillna(df['Discount'].median(), inplace=True)"
   ]
  },
  {
   "cell_type": "code",
   "execution_count": 112,
   "id": "f8ed9ce9",
   "metadata": {},
   "outputs": [],
   "source": [
    "df.drop([\"Name\",\"Details\"],axis=1,inplace=True)"
   ]
  },
  {
   "cell_type": "code",
   "execution_count": 124,
   "id": "636c3279",
   "metadata": {},
   "outputs": [
    {
     "data": {
      "text/html": [
       "<div>\n",
       "<style scoped>\n",
       "    .dataframe tbody tr th:only-of-type {\n",
       "        vertical-align: middle;\n",
       "    }\n",
       "\n",
       "    .dataframe tbody tr th {\n",
       "        vertical-align: top;\n",
       "    }\n",
       "\n",
       "    .dataframe thead th {\n",
       "        text-align: right;\n",
       "    }\n",
       "</style>\n",
       "<table border=\"1\" class=\"dataframe\">\n",
       "  <thead>\n",
       "    <tr style=\"text-align: right;\">\n",
       "      <th></th>\n",
       "      <th>Year</th>\n",
       "      <th>Brand</th>\n",
       "      <th>Model</th>\n",
       "      <th>Type</th>\n",
       "      <th>car_type</th>\n",
       "      <th>owner</th>\n",
       "      <th>fuel</th>\n",
       "      <th>km</th>\n",
       "      <th>Price</th>\n",
       "      <th>Discount</th>\n",
       "      <th>EMI</th>\n",
       "      <th>Location</th>\n",
       "    </tr>\n",
       "  </thead>\n",
       "  <tbody>\n",
       "    <tr>\n",
       "      <th>0</th>\n",
       "      <td>2019</td>\n",
       "      <td>Toyota</td>\n",
       "      <td>Innova Crysta</td>\n",
       "      <td>2.4 GX 8 STR</td>\n",
       "      <td>Manual</td>\n",
       "      <td>1</td>\n",
       "      <td>Diesel</td>\n",
       "      <td>187298</td>\n",
       "      <td>1465799</td>\n",
       "      <td>50000.0</td>\n",
       "      <td>32606</td>\n",
       "      <td>Hyderabad</td>\n",
       "    </tr>\n",
       "    <tr>\n",
       "      <th>1</th>\n",
       "      <td>2017</td>\n",
       "      <td>Maruti</td>\n",
       "      <td>Swift</td>\n",
       "      <td>ZXI</td>\n",
       "      <td>Manual</td>\n",
       "      <td>1</td>\n",
       "      <td>Petrol</td>\n",
       "      <td>45719</td>\n",
       "      <td>627499</td>\n",
       "      <td>33000.0</td>\n",
       "      <td>13958</td>\n",
       "      <td>Hyderabad</td>\n",
       "    </tr>\n",
       "    <tr>\n",
       "      <th>2</th>\n",
       "      <td>2017</td>\n",
       "      <td>Honda</td>\n",
       "      <td>Jazz</td>\n",
       "      <td>1.2 V AT</td>\n",
       "      <td>Automatic</td>\n",
       "      <td>2</td>\n",
       "      <td>Petrol</td>\n",
       "      <td>64497</td>\n",
       "      <td>633799</td>\n",
       "      <td>25000.0</td>\n",
       "      <td>14099</td>\n",
       "      <td>Hyderabad</td>\n",
       "    </tr>\n",
       "    <tr>\n",
       "      <th>3</th>\n",
       "      <td>2019</td>\n",
       "      <td>Renault</td>\n",
       "      <td>Kwid</td>\n",
       "      <td>1.0 RXT Opt</td>\n",
       "      <td>Manual</td>\n",
       "      <td>1</td>\n",
       "      <td>Petrol</td>\n",
       "      <td>31559</td>\n",
       "      <td>407599</td>\n",
       "      <td>27000.0</td>\n",
       "      <td>9067</td>\n",
       "      <td>Hyderabad</td>\n",
       "    </tr>\n",
       "    <tr>\n",
       "      <th>4</th>\n",
       "      <td>2012</td>\n",
       "      <td>Maruti</td>\n",
       "      <td>Ritz</td>\n",
       "      <td>VXI ABS</td>\n",
       "      <td>Manual</td>\n",
       "      <td>2</td>\n",
       "      <td>Petrol</td>\n",
       "      <td>116534</td>\n",
       "      <td>314399</td>\n",
       "      <td>25000.0</td>\n",
       "      <td>6994</td>\n",
       "      <td>Hyderabad</td>\n",
       "    </tr>\n",
       "    <tr>\n",
       "      <th>...</th>\n",
       "      <td>...</td>\n",
       "      <td>...</td>\n",
       "      <td>...</td>\n",
       "      <td>...</td>\n",
       "      <td>...</td>\n",
       "      <td>...</td>\n",
       "      <td>...</td>\n",
       "      <td>...</td>\n",
       "      <td>...</td>\n",
       "      <td>...</td>\n",
       "      <td>...</td>\n",
       "      <td>...</td>\n",
       "    </tr>\n",
       "    <tr>\n",
       "      <th>896</th>\n",
       "      <td>2017</td>\n",
       "      <td>Maruti</td>\n",
       "      <td>Dzire</td>\n",
       "      <td>ZXI</td>\n",
       "      <td>Manual</td>\n",
       "      <td>1</td>\n",
       "      <td>Petrol</td>\n",
       "      <td>37024</td>\n",
       "      <td>562099</td>\n",
       "      <td>50000.0</td>\n",
       "      <td>12504</td>\n",
       "      <td>Mumbai</td>\n",
       "    </tr>\n",
       "    <tr>\n",
       "      <th>897</th>\n",
       "      <td>2015</td>\n",
       "      <td>Hyundai</td>\n",
       "      <td>Grand i10</td>\n",
       "      <td>SPORTS 1.2 VTVT</td>\n",
       "      <td>Manual</td>\n",
       "      <td>1</td>\n",
       "      <td>Petrol</td>\n",
       "      <td>35613</td>\n",
       "      <td>411299</td>\n",
       "      <td>22000.0</td>\n",
       "      <td>9149</td>\n",
       "      <td>Mumbai</td>\n",
       "    </tr>\n",
       "    <tr>\n",
       "      <th>898</th>\n",
       "      <td>2019</td>\n",
       "      <td>Maruti</td>\n",
       "      <td>Dzire</td>\n",
       "      <td>VXI</td>\n",
       "      <td>Manual</td>\n",
       "      <td>1</td>\n",
       "      <td>Petrol</td>\n",
       "      <td>19015</td>\n",
       "      <td>653799</td>\n",
       "      <td>16000.0</td>\n",
       "      <td>14543</td>\n",
       "      <td>Mumbai</td>\n",
       "    </tr>\n",
       "    <tr>\n",
       "      <th>899</th>\n",
       "      <td>2017</td>\n",
       "      <td>Maruti</td>\n",
       "      <td>Wagon R 1.0</td>\n",
       "      <td>LXI CNG</td>\n",
       "      <td>Manual</td>\n",
       "      <td>1</td>\n",
       "      <td>Petrol</td>\n",
       "      <td>110993</td>\n",
       "      <td>379299</td>\n",
       "      <td>5000.0</td>\n",
       "      <td>8437</td>\n",
       "      <td>Mumbai</td>\n",
       "    </tr>\n",
       "    <tr>\n",
       "      <th>900</th>\n",
       "      <td>2016</td>\n",
       "      <td>Maruti</td>\n",
       "      <td>Baleno</td>\n",
       "      <td>DELTA 1.2 K12 AT</td>\n",
       "      <td>Automatic</td>\n",
       "      <td>1</td>\n",
       "      <td>Petrol</td>\n",
       "      <td>26581</td>\n",
       "      <td>591099</td>\n",
       "      <td>34000.0</td>\n",
       "      <td>13149</td>\n",
       "      <td>Mumbai</td>\n",
       "    </tr>\n",
       "  </tbody>\n",
       "</table>\n",
       "<p>817 rows × 12 columns</p>\n",
       "</div>"
      ],
      "text/plain": [
       "     Year    Brand          Model               Type   car_type owner    fuel  \\\n",
       "0    2019   Toyota  Innova Crysta      2.4 GX 8 STR      Manual     1  Diesel   \n",
       "1    2017   Maruti          Swift               ZXI      Manual     1  Petrol   \n",
       "2    2017    Honda           Jazz          1.2 V AT   Automatic     2  Petrol   \n",
       "3    2019  Renault           Kwid       1.0 RXT Opt      Manual     1  Petrol   \n",
       "4    2012   Maruti           Ritz           VXI ABS      Manual     2  Petrol   \n",
       "..    ...      ...            ...                ...        ...   ...     ...   \n",
       "896  2017   Maruti          Dzire               ZXI      Manual     1  Petrol   \n",
       "897  2015  Hyundai      Grand i10   SPORTS 1.2 VTVT      Manual     1  Petrol   \n",
       "898  2019   Maruti          Dzire               VXI      Manual     1  Petrol   \n",
       "899  2017   Maruti    Wagon R 1.0           LXI CNG      Manual     1  Petrol   \n",
       "900  2016   Maruti         Baleno  DELTA 1.2 K12 AT   Automatic     1  Petrol   \n",
       "\n",
       "         km    Price  Discount    EMI   Location  \n",
       "0    187298  1465799   50000.0  32606  Hyderabad  \n",
       "1     45719   627499   33000.0  13958  Hyderabad  \n",
       "2     64497   633799   25000.0  14099  Hyderabad  \n",
       "3     31559   407599   27000.0   9067  Hyderabad  \n",
       "4    116534   314399   25000.0   6994  Hyderabad  \n",
       "..      ...      ...       ...    ...        ...  \n",
       "896   37024   562099   50000.0  12504     Mumbai  \n",
       "897   35613   411299   22000.0   9149     Mumbai  \n",
       "898   19015   653799   16000.0  14543     Mumbai  \n",
       "899  110993   379299    5000.0   8437     Mumbai  \n",
       "900   26581   591099   34000.0  13149     Mumbai  \n",
       "\n",
       "[817 rows x 12 columns]"
      ]
     },
     "execution_count": 124,
     "metadata": {},
     "output_type": "execute_result"
    }
   ],
   "source": [
    "df"
   ]
  },
  {
   "cell_type": "code",
   "execution_count": 125,
   "id": "3c31a1a1",
   "metadata": {},
   "outputs": [
    {
     "name": "stdout",
     "output_type": "stream",
     "text": [
      "<class 'pandas.core.frame.DataFrame'>\n",
      "Int64Index: 817 entries, 0 to 900\n",
      "Data columns (total 12 columns):\n",
      " #   Column    Non-Null Count  Dtype  \n",
      "---  ------    --------------  -----  \n",
      " 0   Year      817 non-null    int32  \n",
      " 1   Brand     817 non-null    object \n",
      " 2   Model     817 non-null    object \n",
      " 3   Type      817 non-null    object \n",
      " 4   car_type  817 non-null    object \n",
      " 5   owner     817 non-null    object \n",
      " 6   fuel      817 non-null    object \n",
      " 7   km        817 non-null    int32  \n",
      " 8   Price     817 non-null    int32  \n",
      " 9   Discount  817 non-null    float64\n",
      " 10  EMI       817 non-null    int32  \n",
      " 11  Location  817 non-null    object \n",
      "dtypes: float64(1), int32(4), object(7)\n",
      "memory usage: 70.2+ KB\n"
     ]
    }
   ],
   "source": [
    "df.info()"
   ]
  },
  {
   "cell_type": "code",
   "execution_count": 128,
   "id": "28999eda",
   "metadata": {},
   "outputs": [
    {
     "data": {
      "text/plain": [
       "<AxesSubplot:>"
      ]
     },
     "execution_count": 128,
     "metadata": {},
     "output_type": "execute_result"
    },
    {
     "data": {
      "image/png": "[encoded data removed]",
      "text/plain": [
       "<Figure size 1080x360 with 1 Axes>"
      ]
     },
     "metadata": {},
     "output_type": "display_data"
    }
   ],
   "source": [
    "sns.set()\n",
    "df['Year'].hist()"
   ]
  },
  {
   "cell_type": "code",
   "execution_count": 139,
   "id": "9f64ce0a",
   "metadata": {},
   "outputs": [
    {
     "data": {
      "image/png": "[encoded data removed]",
      "text/plain": [
       "<Figure size 1440x576 with 1 Axes>"
      ]
     },
     "metadata": {},
     "output_type": "display_data"
    }
   ],
   "source": [
    "plt.figure(figsize=(20,8))\n",
    "sns.countplot(df['Year'])\n",
    "plt.show()"
   ]
  },
  {
   "cell_type": "code",
   "execution_count": 133,
   "id": "bd42239a",
   "metadata": {},
   "outputs": [
    {
     "data": {
      "image/png": "[encoded data removed]",
      "text/plain": [
       "<Figure size 1440x576 with 1 Axes>"
      ]
     },
     "metadata": {},
     "output_type": "display_data"
    }
   ],
   "source": [
    "plt.figure(figsize=(20,8))\n",
    "sns.countplot(df['Brand'])\n",
    "plt.show()"
   ]
  },
  {
   "cell_type": "code",
   "execution_count": 126,
   "id": "ecd9cd4c",
   "metadata": {},
   "outputs": [
    {
     "data": {
      "text/plain": [
       "<AxesSubplot:xlabel='Discount', ylabel='Density'>"
      ]
     },
     "execution_count": 126,
     "metadata": {},
     "output_type": "execute_result"
    },
    {
     "data": {
      "image/png": "[encoded data removed]",
      "text/plain": [
       "<Figure size 1080x360 with 1 Axes>"
      ]
     },
     "metadata": {},
     "output_type": "display_data"
    }
   ],
   "source": [
    "sns.distplot(df.Discount)"
   ]
  },
  {
   "cell_type": "code",
   "execution_count": 119,
   "id": "3360a6f1",
   "metadata": {},
   "outputs": [
    {
     "data": {
      "text/plain": [
       "<AxesSubplot:>"
      ]
     },
     "execution_count": 119,
     "metadata": {},
     "output_type": "execute_result"
    },
    {
     "data": {
      "image/png": "[encoded data removed]",
      "text/plain": [
       "<Figure size 432x288 with 1 Axes>"
      ]
     },
     "metadata": {},
     "output_type": "display_data"
    }
   ],
   "source": [
    "sns.set()\n",
    "df['km'].hist()"
   ]
  },
  {
   "cell_type": "code",
   "execution_count": 145,
   "id": "dff74d0f",
   "metadata": {},
   "outputs": [
    {
     "data": {
      "image/png": "[encoded data removed]",
      "text/plain": [
       "<Figure size 1080x360 with 1 Axes>"
      ]
     },
     "metadata": {},
     "output_type": "display_data"
    }
   ],
   "source": [
    "plt.rcParams['figure.figsize'] = (15, 5)\n",
    "sns.distplot(df['Price'], color = 'blue')\n",
    "plt.title('Distribution of price of cars')\n",
    "plt.show()"
   ]
  },
  {
   "cell_type": "code",
   "execution_count": 146,
   "id": "d80e1b0c",
   "metadata": {},
   "outputs": [
    {
     "data": {
      "image/png": "[encoded data removed]",
      "text/plain": [
       "<Figure size 1080x360 with 1 Axes>"
      ]
     },
     "metadata": {},
     "output_type": "display_data"
    }
   ],
   "source": [
    "plt.rcParams['figure.figsize'] = (15, 5)\n",
    "sns.distplot(df['EMI'], color = 'blue')\n",
    "plt.title('Distribution of EMI of cars')\n",
    "plt.show()"
   ]
  },
  {
   "cell_type": "code",
   "execution_count": 140,
   "id": "1282b505",
   "metadata": {},
   "outputs": [
    {
     "data": {
      "image/png": "[encoded data removed]",
      "text/plain": [
       "<Figure size 576x432 with 1 Axes>"
      ]
     },
     "metadata": {},
     "output_type": "display_data"
    }
   ],
   "source": [
    "plt.figure(figsize=(8,6))\n",
    "sns.countplot(df['car_type'])\n",
    "plt.show()"
   ]
  },
  {
   "cell_type": "code",
   "execution_count": 141,
   "id": "54374822",
   "metadata": {},
   "outputs": [
    {
     "data": {
      "image/png": "[encoded data removed]",
      "text/plain": [
       "<Figure size 576x432 with 1 Axes>"
      ]
     },
     "metadata": {},
     "output_type": "display_data"
    }
   ],
   "source": [
    "plt.figure(figsize=(8,6))\n",
    "sns.countplot(df['fuel'])\n",
    "plt.show()"
   ]
  },
  {
   "cell_type": "code",
   "execution_count": 142,
   "id": "183751ad",
   "metadata": {},
   "outputs": [
    {
     "data": {
      "image/png": "[encoded data removed]",
      "text/plain": [
       "<Figure size 576x432 with 1 Axes>"
      ]
     },
     "metadata": {},
     "output_type": "display_data"
    }
   ],
   "source": [
    "plt.figure(figsize=(8,6))\n",
    "sns.countplot(df['owner'])\n",
    "plt.show()"
   ]
  },
  {
   "cell_type": "code",
   "execution_count": 144,
   "id": "dc06c17a",
   "metadata": {},
   "outputs": [
    {
     "data": {
      "image/png": "[encoded data removed]",
      "text/plain": [
       "<Figure size 576x432 with 1 Axes>"
      ]
     },
     "metadata": {},
     "output_type": "display_data"
    }
   ],
   "source": [
    "plt.figure(figsize=(8,6))\n",
    "sns.countplot(df['Location'])\n",
    "plt.show()"
   ]
  },
  {
   "cell_type": "code",
   "execution_count": 149,
   "id": "6bcd3a32",
   "metadata": {},
   "outputs": [
    {
     "data": {
      "text/plain": [
       "<AxesSubplot:xlabel='Year'>"
      ]
     },
     "execution_count": 149,
     "metadata": {},
     "output_type": "execute_result"
    },
    {
     "data": {
      "image/png": "[encoded data removed]",
      "text/plain": [
       "<Figure size 720x576 with 1 Axes>"
      ]
     },
     "metadata": {},
     "output_type": "display_data"
    }
   ],
   "source": [
    "plt.figure(figsize=(10,8))\n",
    "sns.set_style(\"darkgrid\")\n",
    "sns.boxplot(df['Year'])"
   ]
  },
  {
   "cell_type": "code",
   "execution_count": 154,
   "id": "4c6eda20",
   "metadata": {},
   "outputs": [
    {
     "data": {
      "text/html": [
       "<div>\n",
       "<style scoped>\n",
       "    .dataframe tbody tr th:only-of-type {\n",
       "        vertical-align: middle;\n",
       "    }\n",
       "\n",
       "    .dataframe tbody tr th {\n",
       "        vertical-align: top;\n",
       "    }\n",
       "\n",
       "    .dataframe thead th {\n",
       "        text-align: right;\n",
       "    }\n",
       "</style>\n",
       "<table border=\"1\" class=\"dataframe\">\n",
       "  <thead>\n",
       "    <tr style=\"text-align: right;\">\n",
       "      <th></th>\n",
       "      <th>Year</th>\n",
       "      <th>Brand</th>\n",
       "      <th>Model</th>\n",
       "      <th>Type</th>\n",
       "      <th>car_type</th>\n",
       "      <th>owner</th>\n",
       "      <th>fuel</th>\n",
       "      <th>km</th>\n",
       "      <th>Price</th>\n",
       "      <th>Discount</th>\n",
       "      <th>EMI</th>\n",
       "      <th>Location</th>\n",
       "    </tr>\n",
       "  </thead>\n",
       "  <tbody>\n",
       "    <tr>\n",
       "      <th>113</th>\n",
       "      <td>2009</td>\n",
       "      <td>Maruti</td>\n",
       "      <td>Wagon R</td>\n",
       "      <td>LXI MINOR</td>\n",
       "      <td>Manual</td>\n",
       "      <td>1</td>\n",
       "      <td>Petrol</td>\n",
       "      <td>36035</td>\n",
       "      <td>148199</td>\n",
       "      <td>8000.0</td>\n",
       "      <td>3297</td>\n",
       "      <td>New Delhi</td>\n",
       "    </tr>\n",
       "    <tr>\n",
       "      <th>118</th>\n",
       "      <td>2009</td>\n",
       "      <td>Maruti</td>\n",
       "      <td>Alto</td>\n",
       "      <td>LXI</td>\n",
       "      <td>Manual</td>\n",
       "      <td>1</td>\n",
       "      <td>Petrol</td>\n",
       "      <td>119227</td>\n",
       "      <td>126399</td>\n",
       "      <td>5000.0</td>\n",
       "      <td>2812</td>\n",
       "      <td>New Delhi</td>\n",
       "    </tr>\n",
       "    <tr>\n",
       "      <th>343</th>\n",
       "      <td>2009</td>\n",
       "      <td>Hyundai</td>\n",
       "      <td>i20</td>\n",
       "      <td>MAGNA 1.2 VTVT</td>\n",
       "      <td>Manual</td>\n",
       "      <td>2</td>\n",
       "      <td>Petrol</td>\n",
       "      <td>42118</td>\n",
       "      <td>325399</td>\n",
       "      <td>23000.0</td>\n",
       "      <td>7238</td>\n",
       "      <td>Bengaluru</td>\n",
       "    </tr>\n",
       "    <tr>\n",
       "      <th>351</th>\n",
       "      <td>2009</td>\n",
       "      <td>Maruti</td>\n",
       "      <td>Alto</td>\n",
       "      <td>LXI</td>\n",
       "      <td>Manual</td>\n",
       "      <td>1</td>\n",
       "      <td>Petrol</td>\n",
       "      <td>26743</td>\n",
       "      <td>186499</td>\n",
       "      <td>10000.0</td>\n",
       "      <td>4149</td>\n",
       "      <td>Bengaluru</td>\n",
       "    </tr>\n",
       "    <tr>\n",
       "      <th>414</th>\n",
       "      <td>2009</td>\n",
       "      <td>Hyundai</td>\n",
       "      <td>i10</td>\n",
       "      <td>MAGNA 1.2 AT</td>\n",
       "      <td>Automatic</td>\n",
       "      <td>1</td>\n",
       "      <td>Petrol</td>\n",
       "      <td>27005</td>\n",
       "      <td>333399</td>\n",
       "      <td>22000.0</td>\n",
       "      <td>7416</td>\n",
       "      <td>Bengaluru</td>\n",
       "    </tr>\n",
       "    <tr>\n",
       "      <th>422</th>\n",
       "      <td>2009</td>\n",
       "      <td>Hyundai</td>\n",
       "      <td>i10</td>\n",
       "      <td>MAGNA 1.2 AT</td>\n",
       "      <td>Automatic</td>\n",
       "      <td>2</td>\n",
       "      <td>Petrol</td>\n",
       "      <td>58491</td>\n",
       "      <td>252399</td>\n",
       "      <td>6000.0</td>\n",
       "      <td>5614</td>\n",
       "      <td>Bengaluru</td>\n",
       "    </tr>\n",
       "  </tbody>\n",
       "</table>\n",
       "</div>"
      ],
      "text/plain": [
       "     Year    Brand    Model             Type   car_type owner    fuel      km  \\\n",
       "113  2009   Maruti  Wagon R       LXI MINOR      Manual     1  Petrol   36035   \n",
       "118  2009   Maruti     Alto             LXI      Manual     1  Petrol  119227   \n",
       "343  2009  Hyundai      i20  MAGNA 1.2 VTVT      Manual     2  Petrol   42118   \n",
       "351  2009   Maruti     Alto             LXI      Manual     1  Petrol   26743   \n",
       "414  2009  Hyundai      i10    MAGNA 1.2 AT   Automatic     1  Petrol   27005   \n",
       "422  2009  Hyundai      i10    MAGNA 1.2 AT   Automatic     2  Petrol   58491   \n",
       "\n",
       "      Price  Discount   EMI   Location  \n",
       "113  148199    8000.0  3297  New Delhi  \n",
       "118  126399    5000.0  2812  New Delhi  \n",
       "343  325399   23000.0  7238  Bengaluru  \n",
       "351  186499   10000.0  4149  Bengaluru  \n",
       "414  333399   22000.0  7416  Bengaluru  \n",
       "422  252399    6000.0  5614  Bengaluru  "
      ]
     },
     "execution_count": 154,
     "metadata": {},
     "output_type": "execute_result"
    }
   ],
   "source": [
    "df[df['Year']<2010]"
   ]
  },
  {
   "cell_type": "code",
   "execution_count": 155,
   "id": "e697e0c0",
   "metadata": {},
   "outputs": [
    {
     "data": {
      "text/plain": [
       "<AxesSubplot:xlabel='Price'>"
      ]
     },
     "execution_count": 155,
     "metadata": {},
     "output_type": "execute_result"
    },
    {
     "data": {
      "image/png": "[encoded data removed]",
      "text/plain": [
       "<Figure size 720x576 with 1 Axes>"
      ]
     },
     "metadata": {},
     "output_type": "display_data"
    }
   ],
   "source": [
    "plt.figure(figsize=(10,8))\n",
    "sns.set_style(\"darkgrid\")\n",
    "sns.boxplot(df['Price'])"
   ]
  },
  {
   "cell_type": "code",
   "execution_count": 156,
   "id": "796135f8",
   "metadata": {},
   "outputs": [
    {
     "data": {
      "text/plain": [
       "<AxesSubplot:xlabel='Discount'>"
      ]
     },
     "execution_count": 156,
     "metadata": {},
     "output_type": "execute_result"
    },
    {
     "data": {
      "image/png": "[encoded data removed]",
      "text/plain": [
       "<Figure size 720x576 with 1 Axes>"
      ]
     },
     "metadata": {},
     "output_type": "display_data"
    }
   ],
   "source": [
    "plt.figure(figsize=(10,8))\n",
    "sns.set_style(\"darkgrid\")\n",
    "sns.boxplot(df['Discount'])"
   ]
  },
  {
   "cell_type": "code",
   "execution_count": 157,
   "id": "04793bdd",
   "metadata": {},
   "outputs": [
    {
     "data": {
      "text/plain": [
       "<AxesSubplot:xlabel='EMI'>"
      ]
     },
     "execution_count": 157,
     "metadata": {},
     "output_type": "execute_result"
    },
    {
     "data": {
      "image/png": "[encoded data removed]",
      "text/plain": [
       "<Figure size 720x576 with 1 Axes>"
      ]
     },
     "metadata": {},
     "output_type": "display_data"
    }
   ],
   "source": [
    "plt.figure(figsize=(10,8))\n",
    "sns.set_style(\"darkgrid\")\n",
    "sns.boxplot(df['EMI'])"
   ]
  },
  {
   "cell_type": "code",
   "execution_count": 162,
   "id": "5f80d82d",
   "metadata": {},
   "outputs": [
    {
     "data": {
      "text/plain": [
       "0    2015\n",
       "dtype: int32"
      ]
     },
     "execution_count": 162,
     "metadata": {},
     "output_type": "execute_result"
    }
   ],
   "source": [
    "df[df['owner']==\"\"]['Year'].mode()"
   ]
  },
  {
   "cell_type": "code",
   "execution_count": 164,
   "id": "7c345842",
   "metadata": {},
   "outputs": [
    {
     "data": {
      "text/plain": [
       "0    1\n",
       "dtype: object"
      ]
     },
     "execution_count": 164,
     "metadata": {},
     "output_type": "execute_result"
    }
   ],
   "source": [
    "df[df[\"Year\"]==2015]['owner'].mode()"
   ]
  },
  {
   "cell_type": "code",
   "execution_count": 170,
   "id": "ebb081fe",
   "metadata": {},
   "outputs": [
    {
     "data": {
      "text/html": [
       "<div>\n",
       "<style scoped>\n",
       "    .dataframe tbody tr th:only-of-type {\n",
       "        vertical-align: middle;\n",
       "    }\n",
       "\n",
       "    .dataframe tbody tr th {\n",
       "        vertical-align: top;\n",
       "    }\n",
       "\n",
       "    .dataframe thead th {\n",
       "        text-align: right;\n",
       "    }\n",
       "</style>\n",
       "<table border=\"1\" class=\"dataframe\">\n",
       "  <thead>\n",
       "    <tr style=\"text-align: right;\">\n",
       "      <th></th>\n",
       "      <th>Year</th>\n",
       "      <th>Brand</th>\n",
       "      <th>Model</th>\n",
       "      <th>Type</th>\n",
       "      <th>car_type</th>\n",
       "      <th>owner</th>\n",
       "      <th>fuel</th>\n",
       "      <th>km</th>\n",
       "      <th>Price</th>\n",
       "      <th>Discount</th>\n",
       "      <th>EMI</th>\n",
       "      <th>Location</th>\n",
       "    </tr>\n",
       "  </thead>\n",
       "  <tbody>\n",
       "    <tr>\n",
       "      <th>17</th>\n",
       "      <td>2019</td>\n",
       "      <td>Hyundai</td>\n",
       "      <td>NEW SANTRO</td>\n",
       "      <td>1.1 SPORTS MT CNG</td>\n",
       "      <td></td>\n",
       "      <td>1</td>\n",
       "      <td>Petrol</td>\n",
       "      <td>36126</td>\n",
       "      <td>476399</td>\n",
       "      <td>5000.0</td>\n",
       "      <td>10597</td>\n",
       "      <td>Hyderabad</td>\n",
       "    </tr>\n",
       "    <tr>\n",
       "      <th>76</th>\n",
       "      <td>2016</td>\n",
       "      <td>Hyundai</td>\n",
       "      <td>Elite i20</td>\n",
       "      <td>Sportz 1.2 VTVT MT</td>\n",
       "      <td></td>\n",
       "      <td>1</td>\n",
       "      <td>Petrol</td>\n",
       "      <td>24365</td>\n",
       "      <td>620199</td>\n",
       "      <td>32000.0</td>\n",
       "      <td>13796</td>\n",
       "      <td>Hyderabad</td>\n",
       "    </tr>\n",
       "    <tr>\n",
       "      <th>78</th>\n",
       "      <td>2018</td>\n",
       "      <td>Hyundai</td>\n",
       "      <td>Elite i20</td>\n",
       "      <td>ASTA 1.2 AT</td>\n",
       "      <td></td>\n",
       "      <td>1</td>\n",
       "      <td>Petrol</td>\n",
       "      <td>20001</td>\n",
       "      <td>752899</td>\n",
       "      <td>10000.0</td>\n",
       "      <td>16748</td>\n",
       "      <td>Hyderabad</td>\n",
       "    </tr>\n",
       "    <tr>\n",
       "      <th>140</th>\n",
       "      <td>2018</td>\n",
       "      <td>Datsun</td>\n",
       "      <td>Redi Go</td>\n",
       "      <td>1.0 S AT</td>\n",
       "      <td></td>\n",
       "      <td>1</td>\n",
       "      <td>Petrol</td>\n",
       "      <td>21607</td>\n",
       "      <td>340399</td>\n",
       "      <td>29000.0</td>\n",
       "      <td>7572</td>\n",
       "      <td>New Delhi</td>\n",
       "    </tr>\n",
       "    <tr>\n",
       "      <th>154</th>\n",
       "      <td>2018</td>\n",
       "      <td>Hyundai</td>\n",
       "      <td>Creta</td>\n",
       "      <td>1.4 E PLUS CRDI</td>\n",
       "      <td></td>\n",
       "      <td>1</td>\n",
       "      <td>Diesel</td>\n",
       "      <td>32387</td>\n",
       "      <td>895399</td>\n",
       "      <td>48000.0</td>\n",
       "      <td>19918</td>\n",
       "      <td>New Delhi</td>\n",
       "    </tr>\n",
       "    <tr>\n",
       "      <th>216</th>\n",
       "      <td>2016</td>\n",
       "      <td>Hyundai</td>\n",
       "      <td>Creta</td>\n",
       "      <td>1.6 SX CRDI</td>\n",
       "      <td></td>\n",
       "      <td>1</td>\n",
       "      <td>Diesel</td>\n",
       "      <td>113574</td>\n",
       "      <td>884999</td>\n",
       "      <td>50000.0</td>\n",
       "      <td>19686</td>\n",
       "      <td>Bengaluru</td>\n",
       "    </tr>\n",
       "    <tr>\n",
       "      <th>259</th>\n",
       "      <td>2016</td>\n",
       "      <td>Renault</td>\n",
       "      <td>Kwid</td>\n",
       "      <td>RXT 1.0 EASY-R  AT</td>\n",
       "      <td></td>\n",
       "      <td>2</td>\n",
       "      <td>Petrol</td>\n",
       "      <td>35941</td>\n",
       "      <td>417599</td>\n",
       "      <td>5000.0</td>\n",
       "      <td>9289</td>\n",
       "      <td>Bengaluru</td>\n",
       "    </tr>\n",
       "    <tr>\n",
       "      <th>297</th>\n",
       "      <td>2019</td>\n",
       "      <td>Renault</td>\n",
       "      <td>Kwid</td>\n",
       "      <td>CLIMBER 1.0 AT</td>\n",
       "      <td></td>\n",
       "      <td>1</td>\n",
       "      <td>Petrol</td>\n",
       "      <td>12449</td>\n",
       "      <td>436999</td>\n",
       "      <td>37000.0</td>\n",
       "      <td>9721</td>\n",
       "      <td>Bengaluru</td>\n",
       "    </tr>\n",
       "    <tr>\n",
       "      <th>374</th>\n",
       "      <td>2019</td>\n",
       "      <td>Maruti</td>\n",
       "      <td>New Wagon-R</td>\n",
       "      <td>VXI (O)1.OL AGS</td>\n",
       "      <td></td>\n",
       "      <td>1</td>\n",
       "      <td>Petrol</td>\n",
       "      <td>19182</td>\n",
       "      <td>503499</td>\n",
       "      <td>30000.0</td>\n",
       "      <td>11200</td>\n",
       "      <td>Bengaluru</td>\n",
       "    </tr>\n",
       "    <tr>\n",
       "      <th>401</th>\n",
       "      <td>2018</td>\n",
       "      <td>Renault</td>\n",
       "      <td>Kwid</td>\n",
       "      <td>CLIMBER 1.0 AT</td>\n",
       "      <td></td>\n",
       "      <td>2</td>\n",
       "      <td>Petrol</td>\n",
       "      <td>19422</td>\n",
       "      <td>404099</td>\n",
       "      <td>23000.0</td>\n",
       "      <td>8989</td>\n",
       "      <td>Bengaluru</td>\n",
       "    </tr>\n",
       "    <tr>\n",
       "      <th>406</th>\n",
       "      <td>2018</td>\n",
       "      <td>Renault</td>\n",
       "      <td>Kwid</td>\n",
       "      <td>RXL1.0 EASY-R AT</td>\n",
       "      <td></td>\n",
       "      <td>1</td>\n",
       "      <td>Petrol</td>\n",
       "      <td>9848</td>\n",
       "      <td>409999</td>\n",
       "      <td>22000.0</td>\n",
       "      <td>9120</td>\n",
       "      <td>Bengaluru</td>\n",
       "    </tr>\n",
       "    <tr>\n",
       "      <th>466</th>\n",
       "      <td>2019</td>\n",
       "      <td>Maruti</td>\n",
       "      <td>New Wagon-R</td>\n",
       "      <td>VXI 1.0</td>\n",
       "      <td></td>\n",
       "      <td>1</td>\n",
       "      <td>Petrol</td>\n",
       "      <td>3555</td>\n",
       "      <td>521899</td>\n",
       "      <td>30000.0</td>\n",
       "      <td>11609</td>\n",
       "      <td>Mumbai</td>\n",
       "    </tr>\n",
       "    <tr>\n",
       "      <th>477</th>\n",
       "      <td>2019</td>\n",
       "      <td>Hyundai</td>\n",
       "      <td>Creta</td>\n",
       "      <td>1.6 SX (O) VTVT</td>\n",
       "      <td></td>\n",
       "      <td>1</td>\n",
       "      <td>Petrol</td>\n",
       "      <td>10563</td>\n",
       "      <td>1247299</td>\n",
       "      <td>6000.0</td>\n",
       "      <td>27745</td>\n",
       "      <td>Mumbai</td>\n",
       "    </tr>\n",
       "    <tr>\n",
       "      <th>480</th>\n",
       "      <td>2019</td>\n",
       "      <td>KIA</td>\n",
       "      <td>SELTOS</td>\n",
       "      <td>GTX+ 1.4 MT</td>\n",
       "      <td></td>\n",
       "      <td>1</td>\n",
       "      <td>Petrol</td>\n",
       "      <td>5348</td>\n",
       "      <td>1849799</td>\n",
       "      <td>7000.0</td>\n",
       "      <td>41148</td>\n",
       "      <td>Mumbai</td>\n",
       "    </tr>\n",
       "    <tr>\n",
       "      <th>494</th>\n",
       "      <td>2018</td>\n",
       "      <td>Ford</td>\n",
       "      <td>Ecosport</td>\n",
       "      <td>TREND + 1.5 TI VCT AT</td>\n",
       "      <td></td>\n",
       "      <td>1</td>\n",
       "      <td>Petrol</td>\n",
       "      <td>12488</td>\n",
       "      <td>749799</td>\n",
       "      <td>11000.0</td>\n",
       "      <td>16679</td>\n",
       "      <td>Mumbai</td>\n",
       "    </tr>\n",
       "    <tr>\n",
       "      <th>555</th>\n",
       "      <td>2019</td>\n",
       "      <td>Ford</td>\n",
       "      <td>Ecosport</td>\n",
       "      <td>1.5 TITANIUM PLUS TI VCT AT</td>\n",
       "      <td></td>\n",
       "      <td>1</td>\n",
       "      <td>Petrol</td>\n",
       "      <td>10102</td>\n",
       "      <td>977199</td>\n",
       "      <td>36000.0</td>\n",
       "      <td>21737</td>\n",
       "      <td>Mumbai</td>\n",
       "    </tr>\n",
       "    <tr>\n",
       "      <th>607</th>\n",
       "      <td>2020</td>\n",
       "      <td>MG</td>\n",
       "      <td>HECTOR</td>\n",
       "      <td>SHARP DCT PETROL</td>\n",
       "      <td></td>\n",
       "      <td>1</td>\n",
       "      <td>Petrol</td>\n",
       "      <td>8149</td>\n",
       "      <td>1699799</td>\n",
       "      <td>22000.0</td>\n",
       "      <td>37811</td>\n",
       "      <td>Mumbai</td>\n",
       "    </tr>\n",
       "    <tr>\n",
       "      <th>619</th>\n",
       "      <td>2019</td>\n",
       "      <td>Hyundai</td>\n",
       "      <td>VENUE</td>\n",
       "      <td>1.0 TURBO GDI SX+ AT</td>\n",
       "      <td></td>\n",
       "      <td>1</td>\n",
       "      <td>Petrol</td>\n",
       "      <td>8459</td>\n",
       "      <td>1032599</td>\n",
       "      <td>50000.0</td>\n",
       "      <td>22970</td>\n",
       "      <td>Mumbai</td>\n",
       "    </tr>\n",
       "    <tr>\n",
       "      <th>716</th>\n",
       "      <td>2018</td>\n",
       "      <td>Hyundai</td>\n",
       "      <td>Elite i20</td>\n",
       "      <td>ASTA 1.2 AT</td>\n",
       "      <td></td>\n",
       "      <td>1</td>\n",
       "      <td>Petrol</td>\n",
       "      <td>10222</td>\n",
       "      <td>771699</td>\n",
       "      <td>5000.0</td>\n",
       "      <td>17166</td>\n",
       "      <td>Mumbai</td>\n",
       "    </tr>\n",
       "    <tr>\n",
       "      <th>737</th>\n",
       "      <td>2020</td>\n",
       "      <td>KIA</td>\n",
       "      <td>SELTOS</td>\n",
       "      <td>GTX + AT PETROL</td>\n",
       "      <td></td>\n",
       "      <td>1</td>\n",
       "      <td>Petrol</td>\n",
       "      <td>2787</td>\n",
       "      <td>1969399</td>\n",
       "      <td>45000.0</td>\n",
       "      <td>43808</td>\n",
       "      <td>Mumbai</td>\n",
       "    </tr>\n",
       "    <tr>\n",
       "      <th>758</th>\n",
       "      <td>2019</td>\n",
       "      <td>Hyundai</td>\n",
       "      <td>NEW SANTRO</td>\n",
       "      <td>SPORTZ 1.1</td>\n",
       "      <td></td>\n",
       "      <td>1</td>\n",
       "      <td>Petrol</td>\n",
       "      <td>2639</td>\n",
       "      <td>549399</td>\n",
       "      <td>5000.0</td>\n",
       "      <td>12221</td>\n",
       "      <td>Mumbai</td>\n",
       "    </tr>\n",
       "    <tr>\n",
       "      <th>761</th>\n",
       "      <td>2018</td>\n",
       "      <td>Maruti</td>\n",
       "      <td>Vitara Brezza</td>\n",
       "      <td>ZDI+ DUAL TONE AMT</td>\n",
       "      <td></td>\n",
       "      <td>1</td>\n",
       "      <td>Diesel</td>\n",
       "      <td>38175</td>\n",
       "      <td>940699</td>\n",
       "      <td>36000.0</td>\n",
       "      <td>20925</td>\n",
       "      <td>Mumbai</td>\n",
       "    </tr>\n",
       "    <tr>\n",
       "      <th>837</th>\n",
       "      <td>2019</td>\n",
       "      <td>Maruti</td>\n",
       "      <td>New Wagon-R</td>\n",
       "      <td>ZXI 1.2</td>\n",
       "      <td></td>\n",
       "      <td>1</td>\n",
       "      <td>Petrol</td>\n",
       "      <td>26538</td>\n",
       "      <td>523899</td>\n",
       "      <td>35000.0</td>\n",
       "      <td>11654</td>\n",
       "      <td>Mumbai</td>\n",
       "    </tr>\n",
       "  </tbody>\n",
       "</table>\n",
       "</div>"
      ],
      "text/plain": [
       "     Year    Brand          Model                          Type car_type  \\\n",
       "17   2019  Hyundai     NEW SANTRO            1.1 SPORTS MT CNG             \n",
       "76   2016  Hyundai      Elite i20           Sportz 1.2 VTVT MT             \n",
       "78   2018  Hyundai      Elite i20                  ASTA 1.2 AT             \n",
       "140  2018   Datsun        Redi Go                     1.0 S AT             \n",
       "154  2018  Hyundai          Creta              1.4 E PLUS CRDI             \n",
       "216  2016  Hyundai          Creta                  1.6 SX CRDI             \n",
       "259  2016  Renault           Kwid           RXT 1.0 EASY-R  AT             \n",
       "297  2019  Renault           Kwid               CLIMBER 1.0 AT             \n",
       "374  2019   Maruti    New Wagon-R              VXI (O)1.OL AGS             \n",
       "401  2018  Renault           Kwid               CLIMBER 1.0 AT             \n",
       "406  2018  Renault           Kwid             RXL1.0 EASY-R AT             \n",
       "466  2019   Maruti    New Wagon-R                      VXI 1.0             \n",
       "477  2019  Hyundai          Creta              1.6 SX (O) VTVT             \n",
       "480  2019      KIA         SELTOS                  GTX+ 1.4 MT             \n",
       "494  2018     Ford       Ecosport        TREND + 1.5 TI VCT AT             \n",
       "555  2019     Ford       Ecosport  1.5 TITANIUM PLUS TI VCT AT             \n",
       "607  2020       MG         HECTOR             SHARP DCT PETROL             \n",
       "619  2019  Hyundai          VENUE         1.0 TURBO GDI SX+ AT             \n",
       "716  2018  Hyundai      Elite i20                  ASTA 1.2 AT             \n",
       "737  2020      KIA         SELTOS              GTX + AT PETROL             \n",
       "758  2019  Hyundai     NEW SANTRO                   SPORTZ 1.1             \n",
       "761  2018   Maruti  Vitara Brezza           ZDI+ DUAL TONE AMT             \n",
       "837  2019   Maruti    New Wagon-R                      ZXI 1.2             \n",
       "\n",
       "    owner    fuel      km    Price  Discount    EMI   Location  \n",
       "17      1  Petrol   36126   476399    5000.0  10597  Hyderabad  \n",
       "76      1  Petrol   24365   620199   32000.0  13796  Hyderabad  \n",
       "78      1  Petrol   20001   752899   10000.0  16748  Hyderabad  \n",
       "140     1  Petrol   21607   340399   29000.0   7572  New Delhi  \n",
       "154     1  Diesel   32387   895399   48000.0  19918  New Delhi  \n",
       "216     1  Diesel  113574   884999   50000.0  19686  Bengaluru  \n",
       "259     2  Petrol   35941   417599    5000.0   9289  Bengaluru  \n",
       "297     1  Petrol   12449   436999   37000.0   9721  Bengaluru  \n",
       "374     1  Petrol   19182   503499   30000.0  11200  Bengaluru  \n",
       "401     2  Petrol   19422   404099   23000.0   8989  Bengaluru  \n",
       "406     1  Petrol    9848   409999   22000.0   9120  Bengaluru  \n",
       "466     1  Petrol    3555   521899   30000.0  11609     Mumbai  \n",
       "477     1  Petrol   10563  1247299    6000.0  27745     Mumbai  \n",
       "480     1  Petrol    5348  1849799    7000.0  41148     Mumbai  \n",
       "494     1  Petrol   12488   749799   11000.0  16679     Mumbai  \n",
       "555     1  Petrol   10102   977199   36000.0  21737     Mumbai  \n",
       "607     1  Petrol    8149  1699799   22000.0  37811     Mumbai  \n",
       "619     1  Petrol    8459  1032599   50000.0  22970     Mumbai  \n",
       "716     1  Petrol   10222   771699    5000.0  17166     Mumbai  \n",
       "737     1  Petrol    2787  1969399   45000.0  43808     Mumbai  \n",
       "758     1  Petrol    2639   549399    5000.0  12221     Mumbai  \n",
       "761     1  Diesel   38175   940699   36000.0  20925     Mumbai  \n",
       "837     1  Petrol   26538   523899   35000.0  11654     Mumbai  "
      ]
     },
     "execution_count": 170,
     "metadata": {},
     "output_type": "execute_result"
    }
   ],
   "source": [
    "df[df['car_type']==\"\"]"
   ]
  },
  {
   "cell_type": "code",
   "execution_count": null,
   "id": "fc2a6c1d",
   "metadata": {},
   "outputs": [],
   "source": []
  }
 ],
 "metadata": {
  "kernelspec": {
   "display_name": "Python 3",
   "language": "python",
   "name": "python3"
  },
  "language_info": {
   "codemirror_mode": {
    "name": "ipython",
    "version": 3
   },
   "file_extension": ".py",
   "mimetype": "text/x-python",
   "name": "python",
   "nbconvert_exporter": "python",
   "pygments_lexer": "ipython3",
   "version": "3.8.8"
  }
 },
 "nbformat": 4,
 "nbformat_minor": 5
}
